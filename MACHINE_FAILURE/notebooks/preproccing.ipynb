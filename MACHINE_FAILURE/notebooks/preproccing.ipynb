{
 "cells": [
  {
   "cell_type": "code",
   "execution_count": 2,
   "id": "6e127f42",
   "metadata": {},
   "outputs": [
    {
     "data": {
      "text/html": [
       "<div>\n",
       "<style scoped>\n",
       "    .dataframe tbody tr th:only-of-type {\n",
       "        vertical-align: middle;\n",
       "    }\n",
       "\n",
       "    .dataframe tbody tr th {\n",
       "        vertical-align: top;\n",
       "    }\n",
       "\n",
       "    .dataframe thead th {\n",
       "        text-align: right;\n",
       "    }\n",
       "</style>\n",
       "<table border=\"1\" class=\"dataframe\">\n",
       "  <thead>\n",
       "    <tr style=\"text-align: right;\">\n",
       "      <th></th>\n",
       "      <th>footfall</th>\n",
       "      <th>tempMode</th>\n",
       "      <th>AQ</th>\n",
       "      <th>USS</th>\n",
       "      <th>CS</th>\n",
       "      <th>VOC</th>\n",
       "      <th>RP</th>\n",
       "      <th>IP</th>\n",
       "      <th>Temperature</th>\n",
       "      <th>fail</th>\n",
       "    </tr>\n",
       "  </thead>\n",
       "  <tbody>\n",
       "    <tr>\n",
       "      <th>0</th>\n",
       "      <td>0</td>\n",
       "      <td>7</td>\n",
       "      <td>7</td>\n",
       "      <td>1</td>\n",
       "      <td>6</td>\n",
       "      <td>6</td>\n",
       "      <td>36</td>\n",
       "      <td>3</td>\n",
       "      <td>1</td>\n",
       "      <td>1</td>\n",
       "    </tr>\n",
       "    <tr>\n",
       "      <th>1</th>\n",
       "      <td>190</td>\n",
       "      <td>1</td>\n",
       "      <td>3</td>\n",
       "      <td>3</td>\n",
       "      <td>5</td>\n",
       "      <td>1</td>\n",
       "      <td>20</td>\n",
       "      <td>4</td>\n",
       "      <td>1</td>\n",
       "      <td>0</td>\n",
       "    </tr>\n",
       "    <tr>\n",
       "      <th>2</th>\n",
       "      <td>31</td>\n",
       "      <td>7</td>\n",
       "      <td>2</td>\n",
       "      <td>2</td>\n",
       "      <td>6</td>\n",
       "      <td>1</td>\n",
       "      <td>24</td>\n",
       "      <td>6</td>\n",
       "      <td>1</td>\n",
       "      <td>0</td>\n",
       "    </tr>\n",
       "    <tr>\n",
       "      <th>3</th>\n",
       "      <td>83</td>\n",
       "      <td>4</td>\n",
       "      <td>3</td>\n",
       "      <td>4</td>\n",
       "      <td>5</td>\n",
       "      <td>1</td>\n",
       "      <td>28</td>\n",
       "      <td>6</td>\n",
       "      <td>1</td>\n",
       "      <td>0</td>\n",
       "    </tr>\n",
       "    <tr>\n",
       "      <th>4</th>\n",
       "      <td>640</td>\n",
       "      <td>7</td>\n",
       "      <td>5</td>\n",
       "      <td>6</td>\n",
       "      <td>4</td>\n",
       "      <td>0</td>\n",
       "      <td>68</td>\n",
       "      <td>6</td>\n",
       "      <td>1</td>\n",
       "      <td>0</td>\n",
       "    </tr>\n",
       "  </tbody>\n",
       "</table>\n",
       "</div>"
      ],
      "text/plain": [
       "   footfall  tempMode  AQ  USS  CS  VOC  RP  IP  Temperature  fail\n",
       "0         0         7   7    1   6    6  36   3            1     1\n",
       "1       190         1   3    3   5    1  20   4            1     0\n",
       "2        31         7   2    2   6    1  24   6            1     0\n",
       "3        83         4   3    4   5    1  28   6            1     0\n",
       "4       640         7   5    6   4    0  68   6            1     0"
      ]
     },
     "execution_count": 2,
     "metadata": {},
     "output_type": "execute_result"
    }
   ],
   "source": [
    "import pandas as pd\n",
    "df=pd.read_csv(\"../data/data.csv\")\n",
    "df.head()"
   ]
  },
  {
   "cell_type": "code",
   "execution_count": 3,
   "id": "015b87d3",
   "metadata": {},
   "outputs": [
    {
     "name": "stdout",
     "output_type": "stream",
     "text": [
      "<class 'pandas.core.frame.DataFrame'>\n",
      "RangeIndex: 944 entries, 0 to 943\n",
      "Data columns (total 10 columns):\n",
      " #   Column       Non-Null Count  Dtype\n",
      "---  ------       --------------  -----\n",
      " 0   footfall     944 non-null    int64\n",
      " 1   tempMode     944 non-null    int64\n",
      " 2   AQ           944 non-null    int64\n",
      " 3   USS          944 non-null    int64\n",
      " 4   CS           944 non-null    int64\n",
      " 5   VOC          944 non-null    int64\n",
      " 6   RP           944 non-null    int64\n",
      " 7   IP           944 non-null    int64\n",
      " 8   Temperature  944 non-null    int64\n",
      " 9   fail         944 non-null    int64\n",
      "dtypes: int64(10)\n",
      "memory usage: 73.9 KB\n"
     ]
    }
   ],
   "source": [
    "df.info()"
   ]
  },
  {
   "cell_type": "code",
   "execution_count": null,
   "id": "6a3b487a",
   "metadata": {},
   "outputs": [
    {
     "data": {
      "text/plain": [
       "fail\n",
       "0    551\n",
       "1    393\n",
       "Name: count, dtype: int64"
      ]
     },
     "execution_count": 14,
     "metadata": {},
     "output_type": "execute_result"
    }
   ],
   "source": [
    "df[\"fail\"].value_counts()\n",
    "#there is no signicant class imbalance here "
   ]
  },
  {
   "cell_type": "code",
   "execution_count": 15,
   "id": "fe1f6a81",
   "metadata": {},
   "outputs": [
    {
     "data": {
      "text/plain": [
       "Index(['footfall', 'tempMode', 'AQ', 'USS', 'CS', 'VOC', 'RP', 'IP',\n",
       "       'Temperature', 'fail'],\n",
       "      dtype='object')"
      ]
     },
     "execution_count": 15,
     "metadata": {},
     "output_type": "execute_result"
    }
   ],
   "source": [
    "df.columns"
   ]
  },
  {
   "cell_type": "code",
   "execution_count": 20,
   "id": "a6a13b12",
   "metadata": {},
   "outputs": [],
   "source": [
    "num_col=['footfall','AQ','USS','CS','VOC','RP','IP','Temperature']\n",
    "cat_col=\"tempMode\"\n",
    "df_target=df[\"fail\"]\n"
   ]
  },
  {
   "cell_type": "code",
   "execution_count": 22,
   "id": "95e5fb45",
   "metadata": {},
   "outputs": [],
   "source": [
    "from sklearn.preprocessing import StandardScaler\n",
    "scaler = StandardScaler()\n",
    "scaled_numerical = scaler.fit_transform(df[num_col])\n",
    "scaled_df = pd.DataFrame(scaled_numerical, columns=num_col)\n"
   ]
  },
  {
   "cell_type": "code",
   "execution_count": 23,
   "id": "83f2f99e",
   "metadata": {},
   "outputs": [],
   "source": [
    "final_df = pd.concat([scaled_df, df[['tempMode', 'fail']]], axis=1)\n"
   ]
  },
  {
   "cell_type": "code",
   "execution_count": 24,
   "id": "a7898a74",
   "metadata": {},
   "outputs": [],
   "source": [
    "final_df.to_csv(\"processed_data.csv\", index=False)\n"
   ]
  },
  {
   "cell_type": "code",
   "execution_count": 25,
   "id": "21c82241",
   "metadata": {},
   "outputs": [],
   "source": [
    "import pickle\n",
    "with open(\"scaler.pkl\", \"wb\") as f:\n",
    "    pickle.dump(scaler, f)\n"
   ]
  },
  {
   "cell_type": "code",
   "execution_count": null,
   "id": "1411e1fd",
   "metadata": {},
   "outputs": [],
   "source": []
  }
 ],
 "metadata": {
  "kernelspec": {
   "display_name": "Python (env)",
   "language": "python",
   "name": "env"
  },
  "language_info": {
   "codemirror_mode": {
    "name": "ipython",
    "version": 3
   },
   "file_extension": ".py",
   "mimetype": "text/x-python",
   "name": "python",
   "nbconvert_exporter": "python",
   "pygments_lexer": "ipython3",
   "version": "3.11.3"
  }
 },
 "nbformat": 4,
 "nbformat_minor": 5
}
